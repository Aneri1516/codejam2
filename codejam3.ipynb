{
 "cells": [
  {
   "cell_type": "code",
   "execution_count": 13,
   "metadata": {},
   "outputs": [
    {
     "name": "stdout",
     "output_type": "stream",
     "text": [
      "2\n",
      "2\n",
      "0 720\n",
      "720 1440\n",
      "Case #1: CC\n",
      "5\n",
      "99 150\n",
      "1 100\n",
      "100 301\n",
      "2 5\n",
      "150 250\n",
      "Case #2: CJJCC\n"
     ]
    }
   ],
   "source": [
    "t=int(input())\n",
    "for i in range(t):\n",
    "    n=int(input())\n",
    "    #declaring empty list\n",
    "    lst1=[]\n",
    "    lst2=[]\n",
    "    lst3=[]\n",
    "    lst4=[]\n",
    "    for j in range(n):\n",
    "        a,b=map(int,input().split())   #construction of lists\n",
    "        lst1.insert(j,a)\n",
    "        lst2.insert(j,b)\n",
    "        lst3.insert(j,'C')   #assigning default C\n",
    "        lst4.insert(j,j+1)\n",
    "    f=0 \n",
    "    \n",
    "    for j in range(n):\n",
    "        for k in range(j+1,n):\n",
    "            if lst1[j]<lst2[k] and lst2[j]>lst1[k]:\n",
    "                if lst4[j]==lst4[k]:\n",
    "                    f=1\n",
    "                    print(\"Case #\"+str(i+1)+\": IMPOSSIBLE\")\n",
    "                    break\n",
    "                if lst3[j]=='C':\n",
    "                    lst3[k]='J'\n",
    "                else:\n",
    "                    lst3[k]='C'\n",
    "                lst4[k]=j+1\n",
    "        if f==1:\n",
    "            break\n",
    "    if f!=1:\n",
    "        str1 = ''.join(lst3)\n",
    "        print(\"Case #\"+str(i+1)+\": \"+str1)\n",
    "  \n",
    "                \n",
    "                \n",
    "            \n",
    "                    \n",
    "                    \n",
    "                \n",
    "             \n",
    "                \n",
    "        \n",
    "    \n",
    "        \n",
    "    "
   ]
  },
  {
   "cell_type": "code",
   "execution_count": null,
   "metadata": {},
   "outputs": [],
   "source": []
  }
 ],
 "metadata": {
  "kernelspec": {
   "display_name": "Python 3",
   "language": "python",
   "name": "python3"
  },
  "language_info": {
   "codemirror_mode": {
    "name": "ipython",
    "version": 3
   },
   "file_extension": ".py",
   "mimetype": "text/x-python",
   "name": "python",
   "nbconvert_exporter": "python",
   "pygments_lexer": "ipython3",
   "version": "3.7.4"
  }
 },
 "nbformat": 4,
 "nbformat_minor": 2
}
